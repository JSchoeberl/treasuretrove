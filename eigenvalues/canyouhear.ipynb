{
 "cells": [
  {
   "cell_type": "markdown",
   "id": "08522c62-5719-48d5-b946-d4c26efb4b2a",
   "metadata": {},
   "source": [
    "# Can you hear the shape of a drum? \n",
    "\n",
    "https://www2.math.upenn.edu/~kazdan/425S11/Drum-Gordon-Webb.pdf\n",
    "\n",
    "You can't. This paper shows two different regions leading to the same spectrum. \n",
    "We numerically verify the result."
   ]
  },
  {
   "cell_type": "code",
   "execution_count": null,
   "id": "4e6a3461-db71-45dc-8546-86d3fcd0eb4a",
   "metadata": {},
   "outputs": [],
   "source": [
    "from ngsolve import *\n",
    "from netgen.occ import *\n",
    "from ngsolve.webgui import Draw"
   ]
  },
  {
   "cell_type": "code",
   "execution_count": null,
   "id": "358082bf-b98a-4fe2-8e4f-376fdd3a9301",
   "metadata": {},
   "outputs": [],
   "source": [
    "shape1 = MoveTo(0,0).Line(1,1).Line(0,1).Line(-2,0).Line(0,1).Line(-1,-1).Line(1,-1).Line(1,0).Close().Face()\n",
    "shape2 = MoveTo(0,0).Line(1,0).Line(0,1).Line(-2,2).Line(0,-1).Line(-1,0).Line(1,-1).Line(1,0).Close().Face()"
   ]
  },
  {
   "cell_type": "code",
   "execution_count": null,
   "id": "79e6e6ae-eca5-4b2f-80aa-3b3f8860240d",
   "metadata": {},
   "outputs": [],
   "source": [
    "Draw (shape1)\n",
    "Draw (shape2);"
   ]
  },
  {
   "cell_type": "code",
   "execution_count": null,
   "id": "04e08db6-258e-4b44-b148-2f58012830ba",
   "metadata": {},
   "outputs": [],
   "source": [
    "def Calc(shape):\n",
    "    shape.vertices.hpref=1\n",
    "    mesh = Mesh(OCCGeometry(shape, dim=2).GenerateMesh(maxh=0.2))\n",
    "    mesh.RefineHP(4)\n",
    "    Draw(mesh)\n",
    "    fes = H1(mesh, order=8, dirichlet=\".*\")\n",
    "    u,v = fes.TnT()\n",
    "    A = BilinearForm(grad(u)*grad(v)*dx).Assemble().mat\n",
    "    M = BilinearForm(u*v*dx).Assemble().mat\n",
    "    pre = A.Inverse(freedofs=fes.FreeDofs(), inverse=\"sparsecholesky\")\n",
    "    num = 10\n",
    "    evals, evecs = solvers.LOBPCG(A, M, pre=pre, num=num, maxit=20, printrates=False)  \n",
    "    gfu = GridFunction(fes, multidim=num)\n",
    "    for i in range(num):\n",
    "        gfu.vecs[i] = evecs[i]\n",
    "    return evals, gfu"
   ]
  },
  {
   "cell_type": "code",
   "execution_count": null,
   "id": "5f2353e0-2e25-4d45-b4eb-07a4130489ae",
   "metadata": {},
   "outputs": [],
   "source": [
    "evals1, evecs1 = Calc(shape1)"
   ]
  },
  {
   "cell_type": "code",
   "execution_count": null,
   "id": "befaf486-1133-41f6-aa79-7e21f758d25e",
   "metadata": {},
   "outputs": [],
   "source": [
    "evals2, evecs2 = Calc(shape2)"
   ]
  },
  {
   "cell_type": "code",
   "execution_count": null,
   "id": "87d15c94-6bc2-4697-8c1b-fd3624a905ba",
   "metadata": {},
   "outputs": [],
   "source": [
    "print (\"eig1 = \", list(evals1))\n",
    "print (\"eig1 = \", list(evals2))"
   ]
  },
  {
   "cell_type": "code",
   "execution_count": null,
   "id": "b6b5ef69-a72b-4558-a2d2-15aff6f98954",
   "metadata": {},
   "outputs": [],
   "source": [
    "Draw (evecs1, animate=True, min=-1, max=1);\n",
    "Draw (evecs2, animate=True, min=-1, max=1);"
   ]
  },
  {
   "cell_type": "code",
   "execution_count": null,
   "id": "2631f408-2bb4-4ba0-b534-e3f015f4fbf4",
   "metadata": {},
   "outputs": [],
   "source": []
  }
 ],
 "metadata": {
  "kernelspec": {
   "display_name": "Python 3 (ipykernel)",
   "language": "python",
   "name": "python3"
  },
  "language_info": {
   "codemirror_mode": {
    "name": "ipython",
    "version": 3
   },
   "file_extension": ".py",
   "mimetype": "text/x-python",
   "name": "python",
   "nbconvert_exporter": "python",
   "pygments_lexer": "ipython3",
   "version": "3.13.1"
  }
 },
 "nbformat": 4,
 "nbformat_minor": 5
}
