{
 "cells": [
  {
   "cell_type": "markdown",
   "id": "4bdec212-bc87-4e7f-897b-047d3c2d09e2",
   "metadata": {},
   "source": [
    "# Meshing from Neper geometries\n",
    "\n",
    "Neper is a free / open source software package for polycrystal generation and meshing, see https://neper.info\n",
    "\n",
    "To run this notebook you first have to install neper."
   ]
  },
  {
   "cell_type": "code",
   "execution_count": null,
   "id": "2b27c923-32c7-4151-8758-aa0c7fc0248b",
   "metadata": {},
   "outputs": [],
   "source": [
    "from netgen.occ import *\n",
    "from ngsolve import *\n",
    "from ngsolve.webgui import Draw\n",
    "import subprocess, random\n",
    "\n",
    "n = 100\n",
    "subprocess.run([\"neper\", \"-T\", \"-n\", str(n), \"-format\", \"tess\"])"
   ]
  },
  {
   "cell_type": "code",
   "execution_count": null,
   "id": "4a769644-febd-4764-acc0-875767508499",
   "metadata": {},
   "outputs": [],
   "source": [
    "verts = {}\n",
    "edges = {}\n",
    "faces = {} \n",
    "solids = []\n",
    "\n",
    "f = open(\"n\" + str(n) + \"-id1.tess\")\n",
    "\n",
    "def randomcol():\n",
    "    r = random.uniform(0, 1)\n",
    "    g = random.uniform(0, 1)\n",
    "    b = random.uniform(0, 1)\n",
    "    return (r,g,b)\n",
    "\n",
    "\n",
    "while True:\n",
    "    line = f.readline()\n",
    "    if not line: break\n",
    "\n",
    "    if line.split()[0] == \"**vertex\":\n",
    "        num = int(f.readline())\n",
    "        print (\"found\", num, \"vertices\")\n",
    "\n",
    "        for i in range(num):\n",
    "            line = f.readline()            \n",
    "            nr,x,y,z,hhh = line.split()\n",
    "            verts[int(nr)] = Vertex(Pnt(float(x), float(y), float(z)))\n",
    "\n",
    "    if line.split()[0] == \"**edge\":\n",
    "        num = int(f.readline())\n",
    "        print (\"found\", num, \"edges\")\n",
    "\n",
    "        for i in range(num):\n",
    "            line = f.readline()            \n",
    "            nr,i1,i2,hhh = line.split()\n",
    "            edge = Edge(verts[int(i1)], verts[int(i2)])\n",
    "            edges[int(nr)] = edge\n",
    "            edges[-int(nr)] = edge.Reversed()\n",
    "            \n",
    "    if line.split()[0] == \"**face\":\n",
    "        num = int(f.readline())\n",
    "        print (\"found\", num, \"faces\")\n",
    "\n",
    "        for i in range(num):\n",
    "            l1 = f.readline()            \n",
    "            l2 = f.readline()            \n",
    "            l3 = f.readline()            \n",
    "            l4 = f.readline()\n",
    "            nr,*_ = l1.split()\n",
    "            nume,*fedges = l2.split()\n",
    "            \n",
    "            face = Face(Wire( [edges[int(enr)]  for enr in fedges] ))\n",
    "            faces[int(nr)] = face\n",
    "            faces[-int(nr)] = face.Reversed()\n",
    "\n",
    "            \n",
    "    if line.split()[0] == \"**polyhedron\":\n",
    "        num = int(f.readline())\n",
    "        print (\"found\", num, \"polyhedra\")\n",
    "\n",
    "        for i in range(num):\n",
    "            nr,nrf,*polyfaces = f.readline().split()\n",
    "            solids.append (Solid(Glue( [faces[int(fnr)] for fnr in polyfaces ] )))\n",
    "            solids[-1].faces.col = randomcol()                        \n",
    "            \n",
    "shape = Glue(solids)\n",
    "geo = OCCGeometry(shape)\n",
    "\n",
    "Draw (shape);"
   ]
  },
  {
   "cell_type": "code",
   "execution_count": null,
   "id": "f8756509-a733-4cc6-b9e6-ad4c27b876bc",
   "metadata": {},
   "outputs": [],
   "source": [
    "mp = netgen.meshing.MeshingParameters(segmentsperedge=0.1)\n",
    "with TaskManager(pajetrace=10**9):\n",
    "    mesh = geo.GenerateMesh(maxh=0.05, mp=mp)\n",
    "\n",
    "print (\"ne =\", mesh.ne)"
   ]
  },
  {
   "cell_type": "code",
   "execution_count": null,
   "id": "dcdfb122-6325-4d64-ac55-b0714cb68d25",
   "metadata": {},
   "outputs": [],
   "source": [
    "Draw (mesh); "
   ]
  },
  {
   "cell_type": "code",
   "execution_count": null,
   "id": "b82fa325-ca86-4152-a956-9b82c36f175a",
   "metadata": {},
   "outputs": [],
   "source": []
  }
 ],
 "metadata": {
  "kernelspec": {
   "display_name": "Python 3 (ipykernel)",
   "language": "python",
   "name": "python3"
  },
  "language_info": {
   "codemirror_mode": {
    "name": "ipython",
    "version": 3
   },
   "file_extension": ".py",
   "mimetype": "text/x-python",
   "name": "python",
   "nbconvert_exporter": "python",
   "pygments_lexer": "ipython3",
   "version": "3.13.1"
  }
 },
 "nbformat": 4,
 "nbformat_minor": 5
}
