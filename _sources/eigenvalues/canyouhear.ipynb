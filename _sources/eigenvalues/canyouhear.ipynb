{
 "cells": [
  {
   "cell_type": "markdown",
   "id": "08522c62-5719-48d5-b946-d4c26efb4b2a",
   "metadata": {},
   "source": [
    "# Can you hear the shape of a drum? \n",
    "\n",
    "https://www2.math.upenn.edu/~kazdan/425S11/Drum-Gordon-Webb.pdf\n",
    "\n",
    "You can't. This paper shows two different regions leading to the same spectrum. \n",
    "We numerically verify the result."
   ]
  },
  {
   "cell_type": "code",
   "execution_count": null,
   "id": "4e6a3461-db71-45dc-8546-86d3fcd0eb4a",
   "metadata": {},
   "outputs": [],
   "source": [
    "from ngsolve import *\n",
    "from netgen.occ import *\n",
    "from ngsolve.webgui import Draw"
   ]
  },
  {
   "cell_type": "code",
   "execution_count": null,
   "id": "358082bf-b98a-4fe2-8e4f-376fdd3a9301",
   "metadata": {},
   "outputs": [],
   "source": [
    "shape1 = MoveTo(0,0).Line(1,1).Line(0,1).Line(-2,0).Line(0,1).Line(-1,-1).Line(1,-1).Line(1,0).Close().Face()\n",
    "shape2 = MoveTo(0,0).Line(1,0).Line(0,1).Line(-2,2).Line(0,-1).Line(-1,0).Line(1,-1).Line(1,0).Close().Face()"
   ]
  },
  {
   "cell_type": "code",
   "execution_count": null,
   "id": "79e6e6ae-eca5-4b2f-80aa-3b3f8860240d",
   "metadata": {},
   "outputs": [],
   "source": [
    "Draw (shape1)\n",
    "Draw (shape2);"
   ]
  },
  {
   "cell_type": "code",
   "execution_count": null,
   "id": "04e08db6-258e-4b44-b148-2f58012830ba",
   "metadata": {},
   "outputs": [],
   "source": [
    "def Calc(mesh):\n",
    "    fes = H1(mesh, order=8, dirichlet=\".*\")\n",
    "    u,v = fes.TnT()\n",
    "    A = BilinearForm(grad(u)*grad(v)*dx).Assemble().mat\n",
    "    M = BilinearForm(u*v*dx).Assemble().mat\n",
    "    pre = A.Inverse(freedofs=fes.FreeDofs(), inverse=\"sparsecholesky\")\n",
    "    num = 10\n",
    "    evals, evecs = solvers.LOBPCG(A, M, pre=pre, num=num, maxit=20, printrates=False)  \n",
    "    gfu = GridFunction(fes, multidim=num)\n",
    "    for i in range(num):\n",
    "        gfu.vecs[i] = evecs[i]\n",
    "    return evals, gfu"
   ]
  },
  {
   "cell_type": "code",
   "execution_count": null,
   "id": "5f2353e0-2e25-4d45-b4eb-07a4130489ae",
   "metadata": {},
   "outputs": [],
   "source": [
    "shape1.vertices.hpref=1\n",
    "mesh1 = Mesh(OCCGeometry(shape1, dim=2).GenerateMesh(maxh=0.2))\n",
    "mesh1.RefineHP(4)\n",
    "Draw (mesh1)\n",
    "evals1, evecs1 = Calc(mesh1)"
   ]
  },
  {
   "cell_type": "code",
   "execution_count": null,
   "id": "befaf486-1133-41f6-aa79-7e21f758d25e",
   "metadata": {},
   "outputs": [],
   "source": [
    "shape2.vertices.hpref=1\n",
    "mesh2 = Mesh(OCCGeometry(shape2, dim=2).GenerateMesh(maxh=0.2))\n",
    "mesh2.RefineHP(4)\n",
    "Draw (mesh2)\n",
    "evals2, evecs2 = Calc(mesh2)"
   ]
  },
  {
   "cell_type": "code",
   "execution_count": null,
   "id": "87d15c94-6bc2-4697-8c1b-fd3624a905ba",
   "metadata": {},
   "outputs": [],
   "source": [
    "print (\"eig1 = \", list(evals1))\n",
    "print (\"eig1 = \", list(evals2))"
   ]
  },
  {
   "cell_type": "code",
   "execution_count": null,
   "id": "b6b5ef69-a72b-4558-a2d2-15aff6f98954",
   "metadata": {},
   "outputs": [],
   "source": [
    "Draw (evecs1, animate=True, min=-1, max=1);\n",
    "Draw (evecs2, animate=True, min=-1, max=1);"
   ]
  },
  {
   "cell_type": "markdown",
   "id": "f5403afa-4c7d-4646-b113-1c0e0d83ec75",
   "metadata": {},
   "source": [
    "# Computations with structured meshes"
   ]
  },
  {
   "cell_type": "code",
   "execution_count": null,
   "id": "2631f408-2bb4-4ba0-b534-e3f015f4fbf4",
   "metadata": {},
   "outputs": [],
   "source": [
    "import netgen.meshing as ngm\n",
    "mesh1s = ngm.Mesh(dim=2)\n",
    "\n",
    "pnts = [ (0,0), (1,1), (1,2), (0,2), (-1,2), (-1,3), (-2,2), (-1,1), (0,1) ]\n",
    "els = [(0,1,8), (8,1,3), (1,2,3), (7,8,3), (7,3,4), (6,7,4), (6,4,5)]\n",
    "pis = [ mesh1s.Add (ngm.MeshPoint(ngm.Pnt(*p,0))) for p in pnts ]\n",
    "idx_dom = mesh1s.AddRegion(\"vol\", dim=2)\n",
    "for el in els:\n",
    "    mesh1s.Add(ngm.Element2D(idx_dom, [pis[i] for i in el]))\n",
    "idx_bnd = mesh1s.AddRegion(\"bnd\", dim=2)\n",
    "for i in range(9):\n",
    "    mesh1s.Add(ngm.Element1D([pis[i], pis[(i+1)%9]], index=idx_bnd-1))\n",
    "for l in range(3):\n",
    "    mesh1s.Refine()\n",
    "mesh1s = Mesh(mesh1s)"
   ]
  },
  {
   "cell_type": "code",
   "execution_count": null,
   "id": "fc849b74-8035-4a3f-9306-31ee54d8c538",
   "metadata": {},
   "outputs": [],
   "source": [
    "print (mesh1s.GetMaterials(), mesh1s.GetBoundaries())\n",
    "Draw (mesh1s);"
   ]
  },
  {
   "cell_type": "code",
   "execution_count": null,
   "id": "43427264-9f59-460d-93fe-3e437fd907d6",
   "metadata": {},
   "outputs": [],
   "source": [
    "mesh2s = ngm.Mesh(dim=2)\n",
    "\n",
    "pnts = [ (0,0), (1,0), (1,1), (0,2), (-1,3), (-1,2), (-2,2), (-1,1), (0,1) ]\n",
    "els = [(0,1,2), (0,2,8), (8,2,3), (7,8,3), (7,3,5), (7,5,6), (5,3,4) ]\n",
    "\n",
    "pis = [ mesh2s.Add (ngm.MeshPoint(ngm.Pnt(*p,0))) for p in pnts ]\n",
    "idx_dom = mesh2s.AddRegion(\"vol\", dim=2)\n",
    "for el in els:\n",
    "    mesh2s.Add(ngm.Element2D(idx_dom, [pis[i] for i in el]))\n",
    "idx_bnd = mesh2s.AddRegion(\"bnd\", dim=2)\n",
    "for i in range(9):\n",
    "    mesh2s.Add(ngm.Element1D([pis[i], pis[(i+1)%9]], index=idx_bnd-1))\n",
    "for l in range(3):\n",
    "     mesh2s.Refine()\n",
    "mesh2s = Mesh(mesh2s)\n",
    "\n",
    "Draw(mesh2s);"
   ]
  },
  {
   "cell_type": "code",
   "execution_count": null,
   "id": "065ef064-5cdc-4ba9-ac85-3fae28612b61",
   "metadata": {},
   "outputs": [],
   "source": [
    "evals1s, evecs1s = Calc(mesh1s)\n",
    "print (list(evals1s))\n",
    "\n",
    "evals2s, evecs2s = Calc(mesh2s)\n",
    "print (list(evals2s))"
   ]
  },
  {
   "cell_type": "code",
   "execution_count": null,
   "id": "7c82a77f-5315-4709-97d8-47cb48ad2a3f",
   "metadata": {},
   "outputs": [],
   "source": []
  }
 ],
 "metadata": {
  "kernelspec": {
   "display_name": "Python 3 (ipykernel)",
   "language": "python",
   "name": "python3"
  },
  "language_info": {
   "codemirror_mode": {
    "name": "ipython",
    "version": 3
   },
   "file_extension": ".py",
   "mimetype": "text/x-python",
   "name": "python",
   "nbconvert_exporter": "python",
   "pygments_lexer": "ipython3",
   "version": "3.13.1"
  }
 },
 "nbformat": 4,
 "nbformat_minor": 5
}
