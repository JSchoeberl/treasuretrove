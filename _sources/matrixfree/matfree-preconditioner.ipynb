{
 "cells": [
  {
   "cell_type": "markdown",
   "id": "4c167ef2-1ea6-4554-858a-3cee249af9a8",
   "metadata": {},
   "source": [
    "# Matrix-free preconditioning\n",
    "\n",
    "We combine a matrix-free operator with a matrix-free preconditioner. This allows to solve huge high-order problems with little memory"
   ]
  },
  {
   "cell_type": "code",
   "execution_count": 1,
   "id": "eb220cda-aa48-436f-a69e-7a1230d1f634",
   "metadata": {},
   "outputs": [],
   "source": [
    "import numpy as np\n",
    "import ngsolve.comp\n",
    "from ngsolve import *\n",
    "from ngsolve.webgui import Draw\n",
    "\n",
    "from ngsolve.krylovspace import CGSolver\n",
    "from time import time"
   ]
  },
  {
   "cell_type": "code",
   "execution_count": 2,
   "id": "a666d7c7-670f-425b-b072-2c8409c543f2",
   "metadata": {},
   "outputs": [],
   "source": [
    "mesh = Mesh(unit_square.GenerateMesh(maxh=0.1))"
   ]
  },
  {
   "cell_type": "code",
   "execution_count": null,
   "id": "dc32bb4c-d62c-417f-a8d6-ca5a1cee3e43",
   "metadata": {},
   "outputs": [],
   "source": [
    "order = 20\n",
    "\n",
    "fes = H1(mesh, order=order, dirichlet='left|bottom', wb_withedges=False)\n",
    "print (\"ndof =\", fes.ndof)\n",
    "fes2 = VectorL2(mesh, order=order-1, covariant=True)\n",
    "fesl2 = L2(mesh, order=1)\n",
    "\n",
    "u,v = fes.TnT()\n",
    "\n",
    "from ngsolve.comp import ConvertOperator\n",
    "opgrad = ConvertOperator(fes, fes2, grad(u), geom_free=True)\n",
    "opid = ConvertOperator(fes, fesl2, geom_free=True)\n",
    "\n",
    "feslo = H1(mesh, order=1, dirichlet='left|bottom')\n",
    "ulo,vlo = feslo.TnT()\n",
    "alo = BilinearForm(grad(ulo)*grad(vlo)*dx).Assemble()\n",
    "loinv = alo.mat.Inverse(feslo.FreeDofs())\n",
    "prelo = fes.loembedding@loinv@fes.loembedding.T"
   ]
  },
  {
   "cell_type": "code",
   "execution_count": null,
   "id": "e625010f-2d1b-495c-9340-3c88b4fddb98",
   "metadata": {},
   "outputs": [],
   "source": [
    "Laplace = opgrad.T @ fes2.Mass(1) @ opgrad \n",
    "Mass = opid.T @fesl2.Mass(1) @ opid\n",
    "\n",
    "K = Laplace+Mass\n",
    "pre = IdentityMatrix(fes.ndof)"
   ]
  },
  {
   "cell_type": "code",
   "execution_count": null,
   "id": "41b3b88e-ca08-4d6a-957f-c90da72904ae",
   "metadata": {},
   "outputs": [],
   "source": [
    "bfi = (grad(u)*grad(v)*dx)[0].MakeBFI()\n",
    "def CreatorLocal(ei):\n",
    "    # print (ei)\n",
    "    mat = bfi.CalcElementMatrix(fes.GetFE(ei), mesh.GetTrafo(ei))\n",
    "    dofs = fes.GetDofNrs(ei)\n",
    "    # print (dofs)\n",
    "    local = [i for (i,d) in enumerate(dofs) if fes.CouplingType(d)==COUPLING_TYPE.LOCAL_DOF]\n",
    "    # print (local)\n",
    "    matlocal = Matrix( np.asmatrix(mat)[local,:][:,local]).I\n",
    "    # print (matlocal)\n",
    "    return tuple([matlocal, local, local])\n",
    "prelocal = ngsolve.comp.MatrixFreeOperator(fes, CreatorLocal)\n",
    "\n",
    "def CreatorExt(ei):\n",
    "    mat = bfi.CalcElementMatrix(fes.GetFE(ei), mesh.GetTrafo(ei))\n",
    "    dofs = fes.GetDofNrs(ei)    \n",
    "    local = [i for (i,d) in enumerate(dofs) if fes.CouplingType(d)==COUPLING_TYPE.LOCAL_DOF]\n",
    "    coupling = [i for (i,d) in enumerate(dofs) if fes.CouplingType(d)!=COUPLING_TYPE.LOCAL_DOF]\n",
    "    matLL = Matrix( np.asmatrix(mat)[local,:][:,local])\n",
    "    matLC = Matrix( np.asmatrix(mat)[local,:][:,coupling])\n",
    "    mat = -matLL.I*matLC\n",
    "    return tuple([mat, coupling, local])\n",
    "ext = IdentityMatrix(fes.ndof)+ngsolve.comp.MatrixFreeOperator(fes, CreatorExt)\n",
    "\n",
    "def CreatorInterface(ei):\n",
    "    mat = bfi.CalcElementMatrix(fes.GetFE(ei), mesh.GetTrafo(ei))\n",
    "    dofs = fes.GetDofNrs(ei)    \n",
    "    local = [i for (i,d) in enumerate(dofs) if fes.CouplingType(d)==COUPLING_TYPE.LOCAL_DOF]\n",
    "    interface = [i for (i,d) in enumerate(dofs) if fes.CouplingType(d)==COUPLING_TYPE.INTERFACE_DOF]\n",
    "    matIF = Matrix( np.asmatrix(mat)[interface,:][:,interface]).I\n",
    "    return tuple([matIF, interface, interface])\n",
    "preinterface = ngsolve.comp.MatrixFreeOperator(fes, CreatorInterface)\n",
    "\n",
    "\n",
    "coupling = fes.FreeDofs(True)\n",
    "proj = Projector(coupling, True)\n",
    "\n",
    "# pre = prelocal + proj\n",
    "pre = prelocal + ext@(proj@preinterface@proj + prelo)@ext.T \n",
    "# pre = prelocal + proj@preinterface@proj\n",
    "\n",
    "print (pre.GetOperatorInfo())"
   ]
  },
  {
   "cell_type": "code",
   "execution_count": null,
   "id": "7469fa43-6e5c-458e-bf66-8b45ff7563df",
   "metadata": {},
   "outputs": [],
   "source": [
    "f = LinearForm(x*v*dx).Assemble()\n",
    "gfu = GridFunction(fes)"
   ]
  },
  {
   "cell_type": "code",
   "execution_count": null,
   "id": "ab69452a-c255-42b1-a92f-0d181538db7d",
   "metadata": {},
   "outputs": [],
   "source": [
    "ts = time()\n",
    "with TaskManager():\n",
    "    inv = CGSolver(K, pre, printrates=True, maxiter=500)\n",
    "    gfu.vec.data = inv * f.vec\n",
    "print (\"Solved \", fes.ndof, \" in \", time()-ts)"
   ]
  },
  {
   "cell_type": "code",
   "execution_count": null,
   "id": "31f58d3c-f396-42eb-ac0c-0798f0b070a3",
   "metadata": {},
   "outputs": [],
   "source": [
    "Draw (gfu, order=8);"
   ]
  },
  {
   "cell_type": "code",
   "execution_count": null,
   "id": "f9bd35bb-4315-48ff-ae2f-9c11492856b0",
   "metadata": {},
   "outputs": [],
   "source": []
  }
 ],
 "metadata": {
  "kernelspec": {
   "display_name": "Python 3 (ipykernel)",
   "language": "python",
   "name": "python3"
  },
  "language_info": {
   "codemirror_mode": {
    "name": "ipython",
    "version": 3
   },
   "file_extension": ".py",
   "mimetype": "text/x-python",
   "name": "python",
   "nbconvert_exporter": "python",
   "pygments_lexer": "ipython3",
   "version": "3.13.1"
  }
 },
 "nbformat": 4,
 "nbformat_minor": 5
}
