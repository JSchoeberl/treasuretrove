{
 "cells": [
  {
   "cell_type": "markdown",
   "id": "b2977ff9-8ee7-4a48-8404-3ce84db1c0f1",
   "metadata": {},
   "source": [
    "# 3D Heart model\n",
    "\n",
    "A heart described as implicit function by the equation\n",
    " \n",
    "$$\n",
    "(x^2 + \\frac{9}{4}y^2 + z^2-1)^3 - x^2 z^3 - \\frac{9}{200} y^2 z^3 = 0\n",
    "$$\n",
    "\n",
    "reference: https://tpenguinltg.wordpress.com/2014/02/15/representing-the-heart-shape-precisely"
   ]
  },
  {
   "cell_type": "code",
   "execution_count": null,
   "id": "9c679129-d995-48db-99ef-b23dbf60be9c",
   "metadata": {},
   "outputs": [],
   "source": [
    "!ngscxx -c implicit_surface.cpp; ngsld implicit_surface.o -lngcore\n",
    "!source ~/.zprofile ; a.out"
   ]
  },
  {
   "cell_type": "code",
   "execution_count": null,
   "id": "26034c0e-c2ea-4d14-b74d-b6b104ec6aa5",
   "metadata": {},
   "outputs": [],
   "source": [
    "from netgen.stl import STLGeometry\n",
    "from netgen.webgui import Draw"
   ]
  },
  {
   "cell_type": "code",
   "execution_count": null,
   "id": "8563a81e-b372-4deb-bc4d-961931026c03",
   "metadata": {
    "scrolled": true
   },
   "outputs": [],
   "source": [
    "geo = STLGeometry(\"heart.stl\")\n",
    "mesh = geo.GenerateMesh(maxh=0.1)\n",
    "mesh.Curve(3)\n",
    "mesh.FaceDescriptor(1).color = (0.73,0,0)\n",
    "Draw (mesh, euler_angles=(-75,-3,2), radius=1.2);"
   ]
  },
  {
   "cell_type": "code",
   "execution_count": null,
   "id": "ca554ccb-7059-49b5-b650-b37740e2781f",
   "metadata": {},
   "outputs": [],
   "source": []
  }
 ],
 "metadata": {
  "kernelspec": {
   "display_name": "Python 3 (ipykernel)",
   "language": "python",
   "name": "python3"
  },
  "language_info": {
   "codemirror_mode": {
    "name": "ipython",
    "version": 3
   },
   "file_extension": ".py",
   "mimetype": "text/x-python",
   "name": "python",
   "nbconvert_exporter": "python",
   "pygments_lexer": "ipython3",
   "version": "3.13.1"
  }
 },
 "nbformat": 4,
 "nbformat_minor": 5
}
