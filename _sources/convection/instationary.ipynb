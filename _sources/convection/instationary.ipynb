{
 "cells": [
  {
   "cell_type": "markdown",
   "metadata": {},
   "source": [
    "Instationary Transport Equation\n",
    "===\n",
    "$\\DeclareMathOperator{\\opdiv}{div}$\n",
    "\n",
    "The time dependent transport equation is to find an $u = u(x,t)$ such that\n",
    "\n",
    "$$\n",
    "\\frac{\\partial u}{\\partial t} + \\opdiv bu = f\n",
    "$$\n",
    "\n",
    "with an given initial condition $u(x,t=0) = u_0(x)$, and a boundary condition on $\\Gamma_{in}$.\n",
    "\n",
    "The explicit Euler time-discretization method is to find $u^n \\approx u(t_n)$:\n",
    "\n",
    "$$\n",
    "\\frac{1}{t_n - t_{n-1}} \\int_\\Omega (u^n - u^{n-1}) v + A^{DG} (u^{n-1},v) = f(v)\n",
    "$$\n",
    "\n",
    "Here, $A^{DG}(.,.)$ is the bilinear-form of the stationary transport equation.\n",
    "\n",
    "To compute the new coefficient vector for the new $u^n$, we have to solve an equation with the mass matrix\n",
    "\n",
    "$$\n",
    "M (u^n-u^{n-1}) = \\tau \\, (f - A^{DG} u^{n-1})\n",
    "$$\n",
    "\n",
    "Here, we realize the second advantage of DG methods: Since basis functions are defined element by element, the mass matrix is block diagonal. Thus, it is cheap to invert it. If the high order basis-functions are $L_2$-orthogonal, the mass matrix is even diagonal."
   ]
  },
  {
   "cell_type": "code",
   "execution_count": 1,
   "metadata": {},
   "outputs": [],
   "source": [
    "from ngsolve import *\n",
    "from ngsolve.webgui import Draw\n",
    "mesh = Mesh(unit_square.GenerateMesh(maxh=0.1))"
   ]
  },
  {
   "cell_type": "markdown",
   "metadata": {},
   "source": [
    "A circulating wind:"
   ]
  },
  {
   "cell_type": "code",
   "execution_count": 2,
   "metadata": {},
   "outputs": [
    {
     "data": {
      "application/vnd.jupyter.widget-view+json": {
       "model_id": "985cd7a408074d339c5d5b6ba0cfb652",
       "version_major": 2,
       "version_minor": 0
      },
      "text/plain": [
       "WebGuiWidget(layout=Layout(height='50vh', width='100%'), value={'gui_settings': {}, 'ngsolve_version': '6.2.24…"
      ]
     },
     "metadata": {},
     "output_type": "display_data"
    }
   ],
   "source": [
    "b = CF( (y-0.5, 0.5-x) )\n",
    "Draw (b, mesh, \"wind\", vectors={\"grid_size\" : 20 });"
   ]
  },
  {
   "cell_type": "code",
   "execution_count": 3,
   "metadata": {},
   "outputs": [
    {
     "data": {
      "application/vnd.jupyter.widget-view+json": {
       "model_id": "8f121001d58c47d5bd4911eaf9e9e7ce",
       "version_major": 2,
       "version_minor": 0
      },
      "text/plain": [
       "WebGuiWidget(layout=Layout(height='50vh', width='100%'), value={'gui_settings': {}, 'ngsolve_version': '6.2.24…"
      ]
     },
     "metadata": {},
     "output_type": "display_data"
    },
    {
     "data": {
      "application/vnd.jupyter.widget-view+json": {
       "model_id": "dffe5296709a47ff9b755abd2623a674",
       "version_major": 2,
       "version_minor": 0
      },
      "text/plain": [
       "WebGuiWidget(layout=Layout(height='50vh', width='100%'), value={'gui_settings': {}, 'ngsolve_version': '6.2.24…"
      ]
     },
     "metadata": {},
     "output_type": "display_data"
    }
   ],
   "source": [
    "fes = L2(mesh, order=3)\n",
    "\n",
    "u, v = fes.TnT()\n",
    "a = BilinearForm(fes, nonassemble=True)\n",
    "\n",
    "a += -b*u*grad(v)*dx\n",
    "\n",
    "# the upwind-term:\n",
    "n = specialcf.normal(2)\n",
    "uup = IfPos(b*n, u, u.Other(bnd=0))\n",
    "a += b*n*uup*v * dx(element_boundary=True)\n",
    "\n",
    "f = LinearForm(fes).Assemble()\n",
    "\n",
    "gfu = GridFunction(fes)\n",
    "gfu2 = GridFunction(fes)\n",
    "\n",
    "gfu.Set(exp(-10**2*((x-0.5)*(x-0.5) +(y-0.75)*(y-0.75))))\n",
    "\n",
    "scene = Draw(gfu, min=0, max=1, order=3, autoscale=False)\n",
    "scene2 = Draw(gfu2, order=3)"
   ]
  },
  {
   "cell_type": "code",
   "execution_count": 4,
   "metadata": {},
   "outputs": [],
   "source": [
    "tau = 0.001\n",
    "tend = 50\n",
    "t = 0\n",
    "cnt = 0\n",
    "\n",
    "w = gfu.vec.CreateVector()\n",
    "# the mass matrix (implemented matrix-free)\n",
    "invm = fes.Mass(rho=1).Inverse()\n",
    "SetNumThreads(3)\n",
    "with TaskManager():\n",
    "    while t < 1:\n",
    "        # print (t)\n",
    "        # apply the transport operator \n",
    "        a.Apply (gfu.vec, w)\n",
    "        gfu.vec.data -= tau * invm * w\n",
    "        gfu2.vec.data = invm*w\n",
    "        # if cnt%20 == 0:\n",
    "        scene.Redraw() \n",
    "        scene2.Redraw()    \n",
    "        t += tau\n",
    "        cnt +=1 "
   ]
  },
  {
   "cell_type": "markdown",
   "metadata": {},
   "source": [
    "**Exercise:** Replace the explicit Euler time-stepping by an explicit higher order Runge Kutta method (e.g. RK2 or RK4)"
   ]
  },
  {
   "cell_type": "code",
   "execution_count": null,
   "metadata": {},
   "outputs": [],
   "source": []
  }
 ],
 "metadata": {
  "kernelspec": {
   "display_name": "Python 3 (ipykernel)",
   "language": "python",
   "name": "python3"
  },
  "language_info": {
   "codemirror_mode": {
    "name": "ipython",
    "version": 3
   },
   "file_extension": ".py",
   "mimetype": "text/x-python",
   "name": "python",
   "nbconvert_exporter": "python",
   "pygments_lexer": "ipython3",
   "version": "3.13.1"
  }
 },
 "nbformat": 4,
 "nbformat_minor": 4
}
