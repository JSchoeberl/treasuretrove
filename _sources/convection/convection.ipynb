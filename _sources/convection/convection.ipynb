{
 "cells": [
  {
   "cell_type": "code",
   "execution_count": null,
   "id": "2664a953-0244-43c8-bed7-17c4926c166e",
   "metadata": {},
   "outputs": [],
   "source": [
    "from ngsolve import *\n",
    "from ngsolve.webgui import Draw\n",
    "from time import sleep, time\n",
    "\n",
    "mesh = Mesh(unit_square.GenerateMesh(maxh=0.03))\n",
    "\n",
    "wind = CF( (y-0.5, 0.5-x))"
   ]
  },
  {
   "cell_type": "code",
   "execution_count": null,
   "id": "41ac579f-746c-47ee-9b53-326851a22f05",
   "metadata": {},
   "outputs": [],
   "source": [
    "order = 3\n",
    "fesT = L2(mesh, order=order)\n",
    "fesF = FacetFESpace(mesh, order=order)\n",
    "fes = fesT*fesF\n",
    "eT,eF = fes.embeddings\n",
    "u,uhat = fes.TrialFunction()\n",
    "v = fesT.TestFunction()\n",
    "gfu = GridFunction(fes)\n",
    "gfu2 = GridFunction(fes)"
   ]
  },
  {
   "cell_type": "code",
   "execution_count": null,
   "id": "aa18bc15-df26-4e4b-b541-0399f0bf97bd",
   "metadata": {},
   "outputs": [],
   "source": [
    "traceop = fesT.TraceOperator(fesF, average=True)\n",
    "projinner = Projector(fesF.GetDofs(mesh.Boundaries(\".*\")), False)\n",
    "makeboth = (eF@projinner@traceop+eT)@eT.T"
   ]
  },
  {
   "cell_type": "code",
   "execution_count": null,
   "id": "a040ccd6-1a5c-46b3-941c-d8624ac38973",
   "metadata": {},
   "outputs": [],
   "source": [
    "n = specialcf.normal(mesh.dim)\n",
    "dS = dx(element_vb=BND)\n",
    "wn = wind*n\n",
    "\n",
    "convequ = -wind*u*grad(v)*dx + IfPos(wn, wn*u, wn*(2*uhat-u))*v*dS\n",
    "bf = BilinearForm(convequ, nonlinear_matrix_free_bdb=True, nonassemble=False).Assemble()\n",
    "\n",
    "# bf1 = BilinearForm(-wind*u*grad(v)*dx, nonlinear_matrix_free_bdb=True).Assemble()\n",
    "# bf2 = BilinearForm(IfPos(wn, wn*u, wn*(2*uhat-u))*v*dS, nonlinear_matrix_free_bdb=True).Assemble()\n",
    "\n",
    "massinv = eT@fesT.Mass(1).Inverse() "
   ]
  },
  {
   "cell_type": "code",
   "execution_count": null,
   "id": "3342644c-d9f1-4fd2-9cc1-43f95992d041",
   "metadata": {},
   "outputs": [],
   "source": [
    "gfu.components[0].Set (exp(-100*((x-0.75)**2+(y-0.5)**2)))"
   ]
  },
  {
   "cell_type": "code",
   "execution_count": null,
   "id": "f702ed3f-0044-4fa1-af95-e56535bace89",
   "metadata": {},
   "outputs": [],
   "source": [
    "scene = Draw(gfu.components[0], order=5, euler_angles=(-50,0,-10), deformation=True, scale=0.3)\n",
    "\n",
    "hv = gfu.vec.CreateVector()\n",
    "tau = 0.002\n",
    "t = 0\n",
    "tend = 10\n",
    "i = 0\n",
    "ts = time()\n",
    "with TaskManager(): # pajetrace=10**8):\n",
    "    while t < tend:\n",
    "        t += tau\n",
    "        # gfu.vec.data -= tau * massinv@bf.mat@makeboth * gfu.vec\n",
    "        hv.data = gfu.vec - tau/2 * massinv@(bf.mat)@makeboth * gfu.vec\n",
    "        gfu.vec.data -= tau * massinv@(bf.mat)@makeboth * hv\n",
    "        i = i+1\n",
    "        if i%20 == 0:\n",
    "            scene.Redraw()\n",
    "print (\"time =\", time()-ts)"
   ]
  },
  {
   "cell_type": "code",
   "execution_count": null,
   "id": "1dd17836-77c7-44a7-8779-fbdb3bd5af28",
   "metadata": {},
   "outputs": [],
   "source": [
    "# print (bf1.mat.GetOperatorInfo())"
   ]
  },
  {
   "cell_type": "code",
   "execution_count": null,
   "id": "a2b2cf36-c7cc-4c91-b57f-6e7b8874a730",
   "metadata": {},
   "outputs": [],
   "source": []
  },
  {
   "cell_type": "code",
   "execution_count": null,
   "id": "ea7b5860-03d8-43fc-aa92-e089c418a744",
   "metadata": {},
   "outputs": [],
   "source": []
  }
 ],
 "metadata": {
  "kernelspec": {
   "display_name": "Python 3 (ipykernel)",
   "language": "python",
   "name": "python3"
  },
  "language_info": {
   "codemirror_mode": {
    "name": "ipython",
    "version": 3
   },
   "file_extension": ".py",
   "mimetype": "text/x-python",
   "name": "python",
   "nbconvert_exporter": "python",
   "pygments_lexer": "ipython3",
   "version": "3.13.1"
  }
 },
 "nbformat": 4,
 "nbformat_minor": 5
}
